{
 "cells": [
  {
   "cell_type": "code",
   "execution_count": 1,
   "metadata": {},
   "outputs": [
    {
     "name": "stderr",
     "output_type": "stream",
     "text": [
      "WARNING: Logging before flag parsing goes to stderr.\n",
      "W0515 17:53:43.733068 140120845604608 deprecation.py:506] From /home/joel/anaconda3/envs/tensorflow-gpu-3-5-2/lib/python3.5/site-packages/tensorflow/python/ops/init_ops.py:1257: calling VarianceScaling.__init__ (from tensorflow.python.ops.init_ops) with dtype is deprecated and will be removed in a future version.\n",
      "Instructions for updating:\n",
      "Call initializer instance with the dtype argument instead of passing it to the constructor\n"
     ]
    },
    {
     "name": "stdout",
     "output_type": "stream",
     "text": [
      "Model: \"vgg16\"\n",
      "_________________________________________________________________\n",
      "Layer (type)                 Output Shape              Param #   \n",
      "=================================================================\n",
      "input_1 (InputLayer)         [(None, 150, 150, 3)]     0         \n",
      "_________________________________________________________________\n",
      "block1_conv1 (Conv2D)        (None, 150, 150, 64)      1792      \n",
      "_________________________________________________________________\n",
      "block1_conv2 (Conv2D)        (None, 150, 150, 64)      36928     \n",
      "_________________________________________________________________\n",
      "block1_pool (MaxPooling2D)   (None, 75, 75, 64)        0         \n",
      "_________________________________________________________________\n",
      "block2_conv1 (Conv2D)        (None, 75, 75, 128)       73856     \n",
      "_________________________________________________________________\n",
      "block2_conv2 (Conv2D)        (None, 75, 75, 128)       147584    \n",
      "_________________________________________________________________\n",
      "block2_pool (MaxPooling2D)   (None, 37, 37, 128)       0         \n",
      "_________________________________________________________________\n",
      "block3_conv1 (Conv2D)        (None, 37, 37, 256)       295168    \n",
      "_________________________________________________________________\n",
      "block3_conv2 (Conv2D)        (None, 37, 37, 256)       590080    \n",
      "_________________________________________________________________\n",
      "block3_conv3 (Conv2D)        (None, 37, 37, 256)       590080    \n",
      "_________________________________________________________________\n",
      "block3_pool (MaxPooling2D)   (None, 18, 18, 256)       0         \n",
      "_________________________________________________________________\n",
      "block4_conv1 (Conv2D)        (None, 18, 18, 512)       1180160   \n",
      "_________________________________________________________________\n",
      "block4_conv2 (Conv2D)        (None, 18, 18, 512)       2359808   \n",
      "_________________________________________________________________\n",
      "block4_conv3 (Conv2D)        (None, 18, 18, 512)       2359808   \n",
      "_________________________________________________________________\n",
      "block4_pool (MaxPooling2D)   (None, 9, 9, 512)         0         \n",
      "_________________________________________________________________\n",
      "block5_conv1 (Conv2D)        (None, 9, 9, 512)         2359808   \n",
      "_________________________________________________________________\n",
      "block5_conv2 (Conv2D)        (None, 9, 9, 512)         2359808   \n",
      "_________________________________________________________________\n",
      "block5_conv3 (Conv2D)        (None, 9, 9, 512)         2359808   \n",
      "_________________________________________________________________\n",
      "block5_pool (MaxPooling2D)   (None, 4, 4, 512)         0         \n",
      "=================================================================\n",
      "Total params: 14,714,688\n",
      "Trainable params: 14,714,688\n",
      "Non-trainable params: 0\n",
      "_________________________________________________________________\n"
     ]
    }
   ],
   "source": [
    "#Installing VGG16 convolutional base\n",
    "from tensorflow.keras.applications import VGG16\n",
    "\n",
    "conv_base = VGG16(weights='imagenet', include_top=False, input_shape=(150,150,3))\n",
    "\n",
    "conv_base.summary()"
   ]
  },
  {
   "cell_type": "code",
   "execution_count": 2,
   "metadata": {},
   "outputs": [
    {
     "name": "stdout",
     "output_type": "stream",
     "text": [
      "Found 2000 images belonging to 2 classes.\n",
      "Found 1000 images belonging to 2 classes.\n",
      "Found 1000 images belonging to 2 classes.\n"
     ]
    }
   ],
   "source": [
    "#Extracting features using pretrained conv base\n",
    "\n",
    "import os\n",
    "import numpy as np\n",
    "from tensorflow.keras.preprocessing.image import  ImageDataGenerator\n",
    "\n",
    "base_dir = '/home/joel/Dogs_vs_Cats_Dataset_small/'\n",
    "train_dir = os.path.join(base_dir, 'train')\n",
    "validation_dir = os.path.join(base_dir, 'validation')\n",
    "test_dir = os.path.join(base_dir, 'test')\n",
    "\n",
    "datagen = ImageDataGenerator(rescale=1./255)\n",
    "batch_size = 20\n",
    "\n",
    "def extract_features(directory, sample_count):\n",
    "    features = np.zeros(shape=(sample_count, 4, 4, 512))\n",
    "    labels = np.zeros(shape=(sample_count))\n",
    "    generator = datagen.flow_from_directory(directory, target_size=(150,150), batch_size=batch_size,\n",
    "                                           class_mode='binary')\n",
    "    i = 0\n",
    "    for inputs_batch, labels_batch in generator:\n",
    "        features_batch = conv_base.predict(inputs_batch)\n",
    "        features[i * batch_size : (i + 1) * batch_size] = features_batch #replacing the i * batch_size to (i+1) *\n",
    "                                                                         #batch_size (4,4,512)-zero arrays \n",
    "                                                                         #with the predictions\n",
    "        labels[i * batch_size : (i + 1) * batch_size] = labels_batch     #same for labels\n",
    "        i += 1\n",
    "        if i * batch_size >= sample_count:\n",
    "            break #break the indefinitely loop after every image has seen once\n",
    "    return features, labels\n",
    "\n",
    "train_features, train_labels = extract_features(train_dir, 2000)\n",
    "validation_features, validation_labels = extract_features(validation_dir, 1000)\n",
    "test_features, test_labels = extract_features(test_dir,1000)"
   ]
  },
  {
   "cell_type": "code",
   "execution_count": 3,
   "metadata": {},
   "outputs": [],
   "source": [
    "train_features = np.reshape(train_features, (2000, 4*4*512))\n",
    "validation_features = np.reshape(validation_features, (1000, 4*4*512))\n",
    "test_features = np.reshape(test_features, (1000, 4*4*512))"
   ]
  },
  {
   "cell_type": "code",
   "execution_count": 4,
   "metadata": {},
   "outputs": [
    {
     "name": "stdout",
     "output_type": "stream",
     "text": [
      "Train on 2000 samples, validate on 1000 samples\n",
      "Epoch 1/30\n",
      "2000/2000 [==============================] - 1s 371us/sample - loss: 0.6272 - acc: 0.6500 - val_loss: 0.4646 - val_acc: 0.8220\n",
      "Epoch 2/30\n",
      "2000/2000 [==============================] - 0s 215us/sample - loss: 0.4379 - acc: 0.8075 - val_loss: 0.3740 - val_acc: 0.8600\n",
      "Epoch 3/30\n",
      "2000/2000 [==============================] - 0s 212us/sample - loss: 0.3780 - acc: 0.8405 - val_loss: 0.3313 - val_acc: 0.8720\n",
      "Epoch 4/30\n",
      "2000/2000 [==============================] - 0s 223us/sample - loss: 0.3202 - acc: 0.8600 - val_loss: 0.3128 - val_acc: 0.8810\n",
      "Epoch 5/30\n",
      "2000/2000 [==============================] - 0s 216us/sample - loss: 0.2899 - acc: 0.8830 - val_loss: 0.2880 - val_acc: 0.8860\n",
      "Epoch 6/30\n",
      "2000/2000 [==============================] - 0s 218us/sample - loss: 0.2725 - acc: 0.8975 - val_loss: 0.2793 - val_acc: 0.8850\n",
      "Epoch 7/30\n",
      "2000/2000 [==============================] - 0s 212us/sample - loss: 0.2525 - acc: 0.8980 - val_loss: 0.2716 - val_acc: 0.8890\n",
      "Epoch 8/30\n",
      "2000/2000 [==============================] - 0s 220us/sample - loss: 0.2362 - acc: 0.9060 - val_loss: 0.2664 - val_acc: 0.8880\n",
      "Epoch 9/30\n",
      "2000/2000 [==============================] - 0s 214us/sample - loss: 0.2204 - acc: 0.9105 - val_loss: 0.2692 - val_acc: 0.8800\n",
      "Epoch 10/30\n",
      "2000/2000 [==============================] - 0s 211us/sample - loss: 0.2110 - acc: 0.9260 - val_loss: 0.2494 - val_acc: 0.8960\n",
      "Epoch 11/30\n",
      "2000/2000 [==============================] - 0s 212us/sample - loss: 0.2010 - acc: 0.9260 - val_loss: 0.2489 - val_acc: 0.8910\n",
      "Epoch 12/30\n",
      "2000/2000 [==============================] - 0s 214us/sample - loss: 0.1940 - acc: 0.9295 - val_loss: 0.2440 - val_acc: 0.9010\n",
      "Epoch 13/30\n",
      "2000/2000 [==============================] - 0s 213us/sample - loss: 0.1825 - acc: 0.9385 - val_loss: 0.2545 - val_acc: 0.8880\n",
      "Epoch 14/30\n",
      "2000/2000 [==============================] - 0s 211us/sample - loss: 0.1737 - acc: 0.9355 - val_loss: 0.2556 - val_acc: 0.8870\n",
      "Epoch 15/30\n",
      "2000/2000 [==============================] - 0s 216us/sample - loss: 0.1699 - acc: 0.9375 - val_loss: 0.2395 - val_acc: 0.9030\n",
      "Epoch 16/30\n",
      "2000/2000 [==============================] - 0s 212us/sample - loss: 0.1575 - acc: 0.9390 - val_loss: 0.2408 - val_acc: 0.8980\n",
      "Epoch 17/30\n",
      "2000/2000 [==============================] - 0s 212us/sample - loss: 0.1528 - acc: 0.9475 - val_loss: 0.2403 - val_acc: 0.8950\n",
      "Epoch 18/30\n",
      "2000/2000 [==============================] - 0s 211us/sample - loss: 0.1525 - acc: 0.9495 - val_loss: 0.2353 - val_acc: 0.9050\n",
      "Epoch 19/30\n",
      "2000/2000 [==============================] - 0s 214us/sample - loss: 0.1419 - acc: 0.9535 - val_loss: 0.2445 - val_acc: 0.8990\n",
      "Epoch 20/30\n",
      "2000/2000 [==============================] - 0s 215us/sample - loss: 0.1406 - acc: 0.9510 - val_loss: 0.2375 - val_acc: 0.9000\n",
      "Epoch 21/30\n",
      "2000/2000 [==============================] - 0s 213us/sample - loss: 0.1309 - acc: 0.9535 - val_loss: 0.2332 - val_acc: 0.9060\n",
      "Epoch 22/30\n",
      "2000/2000 [==============================] - 0s 215us/sample - loss: 0.1216 - acc: 0.9620 - val_loss: 0.2361 - val_acc: 0.8990\n",
      "Epoch 23/30\n",
      "2000/2000 [==============================] - 0s 217us/sample - loss: 0.1185 - acc: 0.9615 - val_loss: 0.2379 - val_acc: 0.9000\n",
      "Epoch 24/30\n",
      "2000/2000 [==============================] - 0s 215us/sample - loss: 0.1163 - acc: 0.9645 - val_loss: 0.2358 - val_acc: 0.9010\n",
      "Epoch 25/30\n",
      "2000/2000 [==============================] - 0s 215us/sample - loss: 0.1116 - acc: 0.9640 - val_loss: 0.2408 - val_acc: 0.8970\n",
      "Epoch 26/30\n",
      "2000/2000 [==============================] - 0s 216us/sample - loss: 0.1099 - acc: 0.9630 - val_loss: 0.2357 - val_acc: 0.9010\n",
      "Epoch 27/30\n",
      "2000/2000 [==============================] - 0s 211us/sample - loss: 0.1016 - acc: 0.9670 - val_loss: 0.2370 - val_acc: 0.9000\n",
      "Epoch 28/30\n",
      "2000/2000 [==============================] - 0s 213us/sample - loss: 0.1013 - acc: 0.9670 - val_loss: 0.2427 - val_acc: 0.9010\n",
      "Epoch 29/30\n",
      "2000/2000 [==============================] - 0s 218us/sample - loss: 0.0956 - acc: 0.9715 - val_loss: 0.2399 - val_acc: 0.9040\n",
      "Epoch 30/30\n",
      "2000/2000 [==============================] - 0s 211us/sample - loss: 0.0858 - acc: 0.9775 - val_loss: 0.2384 - val_acc: 0.9000\n"
     ]
    }
   ],
   "source": [
    "#Define densely connected classifier with dropout and train it\n",
    "\n",
    "from tensorflow.keras import models\n",
    "from tensorflow.keras import layers\n",
    "from tensorflow.keras import optimizers\n",
    "\n",
    "model = models.Sequential()\n",
    "model.add(layers.Dense(256, activation='relu', input_dim=4*4*512))\n",
    "model.add(layers.Dropout(0.5))\n",
    "model.add(layers.Dense(1, activation='sigmoid'))\n",
    "\n",
    "model.compile(optimizer=optimizers.RMSprop(lr=2e-5), loss='binary_crossentropy', metrics=['acc'])\n",
    "\n",
    "history = model.fit(train_features, train_labels, epochs=30,batch_size=20,\n",
    "                    validation_data=(validation_features,validation_labels))"
   ]
  },
  {
   "cell_type": "code",
   "execution_count": 5,
   "metadata": {},
   "outputs": [
    {
     "data": {
      "text/plain": [
       "<Figure size 640x480 with 1 Axes>"
      ]
     },
     "metadata": {},
     "output_type": "display_data"
    },
    {
     "data": {
      "text/plain": [
       "<Figure size 640x480 with 1 Axes>"
      ]
     },
     "metadata": {},
     "output_type": "display_data"
    }
   ],
   "source": [
    "#Plotting test and validation accuracy and loss\n",
    "\n",
    "import matplotlib.pyplot as plt\n",
    "\n",
    "acc = history.history['acc']\n",
    "val_acc = history.history['val_acc']\n",
    "loss = history.history['loss']\n",
    "val_loss = history.history['val_loss']\n",
    "\n",
    "epochs = range(1, len(acc)+1)\n",
    "\n",
    "plt.plot(epochs, acc, 'bo', label='Training acc')\n",
    "plt.plot(epochs, val_acc, 'b', label='Validation acc')\n",
    "plt.title('Training and validation accuracy')\n",
    "plt.legend()\n",
    "\n",
    "plt.figure()\n",
    "\n",
    "plt.plot(epochs, loss, 'bo', label='Training loss')\n",
    "plt.plot(epochs, val_loss, 'b', label='Validation loss')\n",
    "plt.title('Training and validation loss')\n",
    "plt.legend()\n",
    "\n",
    "plt.show()"
   ]
  },
  {
   "cell_type": "code",
   "execution_count": 6,
   "metadata": {},
   "outputs": [],
   "source": [
    "#Adding the conv_base to a Sequential model for running the inputs\n",
    "#end-to-end\n",
    "\n",
    "from tensorflow.keras import models\n",
    "from tensorflow.keras import layers\n",
    "\n",
    "model = models.Sequential()\n",
    "model.add(conv_base)\n",
    "model.add(layers.Flatten())\n",
    "model.add(layers.Dense(256, activation='relu'))\n",
    "model.add(layers.Dense(1, activation='sigmoid'))"
   ]
  },
  {
   "cell_type": "code",
   "execution_count": 7,
   "metadata": {},
   "outputs": [
    {
     "name": "stdout",
     "output_type": "stream",
     "text": [
      "Model: \"sequential_1\"\n",
      "_________________________________________________________________\n",
      "Layer (type)                 Output Shape              Param #   \n",
      "=================================================================\n",
      "vgg16 (Model)                (None, 4, 4, 512)         14714688  \n",
      "_________________________________________________________________\n",
      "flatten (Flatten)            (None, 8192)              0         \n",
      "_________________________________________________________________\n",
      "dense_2 (Dense)              (None, 256)               2097408   \n",
      "_________________________________________________________________\n",
      "dense_3 (Dense)              (None, 1)                 257       \n",
      "=================================================================\n",
      "Total params: 16,812,353\n",
      "Trainable params: 16,812,353\n",
      "Non-trainable params: 0\n",
      "_________________________________________________________________\n"
     ]
    }
   ],
   "source": [
    "model.summary()"
   ]
  },
  {
   "cell_type": "code",
   "execution_count": 8,
   "metadata": {},
   "outputs": [
    {
     "name": "stdout",
     "output_type": "stream",
     "text": [
      "This is the number of trainable weights before freezing the conv base: 30\n",
      "This is the number of trainable weights after freezing the conv base: 4\n"
     ]
    }
   ],
   "source": [
    "#before compiling and trianing the model, we have to freeze\n",
    "#the conv base (since we don't want to modify the previous learned\n",
    "#representation during training)\n",
    "\n",
    "print('This is the number of trainable weights '\n",
    "      'before freezing the conv base:', len(model.trainable_weights))\n",
    "\n",
    "conv_base.trainable=False\n",
    "\n",
    "print('This is the number of trainable weights '\n",
    "      'after freezing the conv base:', len(model.trainable_weights))\n",
    "\n",
    "#The trainable weights are indeed the Weight matrices and the bias vector"
   ]
  },
  {
   "cell_type": "code",
   "execution_count": 9,
   "metadata": {},
   "outputs": [
    {
     "name": "stdout",
     "output_type": "stream",
     "text": [
      "Found 2000 images belonging to 2 classes.\n",
      "Found 1000 images belonging to 2 classes.\n"
     ]
    },
    {
     "name": "stderr",
     "output_type": "stream",
     "text": [
      "Using TensorFlow backend.\n"
     ]
    },
    {
     "name": "stdout",
     "output_type": "stream",
     "text": [
      "Epoch 1/30\n",
      "100/100 - 16s - loss: 0.5874 - acc: 0.6980 - val_loss: 0.4329 - val_acc: 0.8410\n",
      "Epoch 2/30\n",
      "100/100 - 15s - loss: 0.4797 - acc: 0.7930 - val_loss: 0.3640 - val_acc: 0.8690\n",
      "Epoch 3/30\n",
      "100/100 - 15s - loss: 0.4269 - acc: 0.8190 - val_loss: 0.3169 - val_acc: 0.8860\n",
      "Epoch 4/30\n",
      "100/100 - 15s - loss: 0.4084 - acc: 0.8175 - val_loss: 0.2971 - val_acc: 0.8810\n",
      "Epoch 5/30\n",
      "100/100 - 15s - loss: 0.3830 - acc: 0.8330 - val_loss: 0.2832 - val_acc: 0.8860\n",
      "Epoch 6/30\n",
      "100/100 - 15s - loss: 0.3729 - acc: 0.8360 - val_loss: 0.2732 - val_acc: 0.8900\n",
      "Epoch 7/30\n",
      "100/100 - 15s - loss: 0.3666 - acc: 0.8370 - val_loss: 0.2670 - val_acc: 0.8930\n",
      "Epoch 8/30\n",
      "100/100 - 15s - loss: 0.3516 - acc: 0.8390 - val_loss: 0.2659 - val_acc: 0.8980\n",
      "Epoch 9/30\n",
      "100/100 - 15s - loss: 0.3488 - acc: 0.8445 - val_loss: 0.2563 - val_acc: 0.9030\n",
      "Epoch 10/30\n",
      "100/100 - 15s - loss: 0.3422 - acc: 0.8495 - val_loss: 0.2520 - val_acc: 0.8980\n",
      "Epoch 11/30\n",
      "100/100 - 15s - loss: 0.3372 - acc: 0.8500 - val_loss: 0.2505 - val_acc: 0.9010\n",
      "Epoch 12/30\n",
      "100/100 - 15s - loss: 0.3132 - acc: 0.8650 - val_loss: 0.2476 - val_acc: 0.9030\n",
      "Epoch 13/30\n",
      "100/100 - 15s - loss: 0.3236 - acc: 0.8660 - val_loss: 0.2421 - val_acc: 0.9090\n",
      "Epoch 14/30\n",
      "100/100 - 15s - loss: 0.3096 - acc: 0.8690 - val_loss: 0.2413 - val_acc: 0.9090\n",
      "Epoch 15/30\n",
      "100/100 - 15s - loss: 0.3217 - acc: 0.8510 - val_loss: 0.2594 - val_acc: 0.8890\n",
      "Epoch 16/30\n",
      "100/100 - 15s - loss: 0.3139 - acc: 0.8645 - val_loss: 0.2385 - val_acc: 0.9120\n",
      "Epoch 17/30\n",
      "100/100 - 15s - loss: 0.3029 - acc: 0.8715 - val_loss: 0.2451 - val_acc: 0.9020\n",
      "Epoch 18/30\n",
      "100/100 - 15s - loss: 0.3045 - acc: 0.8665 - val_loss: 0.2396 - val_acc: 0.8990\n",
      "Epoch 19/30\n",
      "100/100 - 15s - loss: 0.2992 - acc: 0.8645 - val_loss: 0.2357 - val_acc: 0.9080\n",
      "Epoch 20/30\n",
      "100/100 - 15s - loss: 0.2948 - acc: 0.8745 - val_loss: 0.2368 - val_acc: 0.9050\n",
      "Epoch 21/30\n",
      "100/100 - 15s - loss: 0.2853 - acc: 0.8790 - val_loss: 0.2401 - val_acc: 0.9040\n",
      "Epoch 22/30\n",
      "100/100 - 15s - loss: 0.2984 - acc: 0.8730 - val_loss: 0.2348 - val_acc: 0.9080\n",
      "Epoch 23/30\n",
      "100/100 - 15s - loss: 0.2921 - acc: 0.8720 - val_loss: 0.2407 - val_acc: 0.9070\n",
      "Epoch 24/30\n",
      "100/100 - 15s - loss: 0.2939 - acc: 0.8750 - val_loss: 0.2482 - val_acc: 0.8940\n",
      "Epoch 25/30\n",
      "100/100 - 15s - loss: 0.3030 - acc: 0.8665 - val_loss: 0.2483 - val_acc: 0.8960\n",
      "Epoch 26/30\n",
      "100/100 - 15s - loss: 0.2797 - acc: 0.8800 - val_loss: 0.2400 - val_acc: 0.9060\n",
      "Epoch 27/30\n",
      "100/100 - 15s - loss: 0.2848 - acc: 0.8790 - val_loss: 0.2438 - val_acc: 0.8990\n",
      "Epoch 28/30\n",
      "100/100 - 15s - loss: 0.2871 - acc: 0.8780 - val_loss: 0.2339 - val_acc: 0.9060\n",
      "Epoch 29/30\n",
      "100/100 - 15s - loss: 0.2788 - acc: 0.8790 - val_loss: 0.2347 - val_acc: 0.9060\n",
      "Epoch 30/30\n",
      "100/100 - 15s - loss: 0.2860 - acc: 0.8710 - val_loss: 0.2330 - val_acc: 0.9110\n"
     ]
    }
   ],
   "source": [
    "#training the model end-to-end with frozen conv-base\n",
    "\n",
    "from keras.preprocessing.image import ImageDataGenerator\n",
    "\n",
    "train_datagen = ImageDataGenerator(\n",
    "      rescale=1./255,\n",
    "      rotation_range=40,\n",
    "      width_shift_range=0.2,\n",
    "      height_shift_range=0.2,\n",
    "      shear_range=0.2,\n",
    "      zoom_range=0.2,\n",
    "      horizontal_flip=True,\n",
    "      fill_mode='nearest')\n",
    "\n",
    "# Note that the validation data should not be augmented!\n",
    "test_datagen = ImageDataGenerator(rescale=1./255)\n",
    "\n",
    "train_generator = train_datagen.flow_from_directory(\n",
    "        train_dir,\n",
    "        target_size=(150, 150),\n",
    "        batch_size=20,\n",
    "        class_mode='binary')\n",
    "\n",
    "validation_generator = test_datagen.flow_from_directory(\n",
    "        validation_dir,\n",
    "        target_size=(150, 150),\n",
    "        batch_size=20,\n",
    "        class_mode='binary')\n",
    "\n",
    "model.compile(loss='binary_crossentropy',\n",
    "              optimizer=optimizers.RMSprop(lr=2e-5),\n",
    "              metrics=['acc'])\n",
    "\n",
    "history = model.fit_generator(\n",
    "      train_generator,\n",
    "      steps_per_epoch=100,\n",
    "      epochs=30,\n",
    "      validation_data=validation_generator,\n",
    "      validation_steps=50,\n",
    "      verbose=2)"
   ]
  },
  {
   "cell_type": "code",
   "execution_count": 12,
   "metadata": {},
   "outputs": [
    {
     "data": {
      "image/png": "[encoded data removed]",
      "text/plain": [
       "<Figure size 432x288 with 1 Axes>"
      ]
     },
     "metadata": {
      "needs_background": "light"
     },
     "output_type": "display_data"
    },
    {
     "data": {
      "image/png": "[encoded data removed]",
      "text/plain": [
       "<Figure size 432x288 with 1 Axes>"
      ]
     },
     "metadata": {
      "needs_background": "light"
     },
     "output_type": "display_data"
    }
   ],
   "source": [
    "#Plotting the accuracy and loss for the model with frozen conv base and\n",
    "#data augmentation\n",
    "\n",
    "import matplotlib.pyplot as plt\n",
    "\n",
    "acc = history.history['acc']\n",
    "val_acc = history.history['val_acc']\n",
    "loss = history.history['loss']\n",
    "val_loss = history.history['val_loss']\n",
    "\n",
    "epochs = range(1, len(acc)+1)\n",
    "\n",
    "plt.plot(epochs, acc, 'bo', label='Training acc')\n",
    "plt.plot(epochs, val_acc, 'b', label='Validation acc')\n",
    "plt.title('Training and validation accuracy')\n",
    "plt.legend()\n",
    "\n",
    "plt.figure()\n",
    "\n",
    "plt.plot(epochs, loss, 'bo', label='Training loss')\n",
    "plt.plot(epochs, val_loss, 'b', label='Validation loss')\n",
    "plt.title('Training and validation loss')\n",
    "plt.legend()\n",
    "\n",
    "plt.show()"
   ]
  },
  {
   "cell_type": "code",
   "execution_count": 14,
   "metadata": {},
   "outputs": [
    {
     "name": "stdout",
     "output_type": "stream",
     "text": [
      "Model: \"vgg16\"\n",
      "_________________________________________________________________\n",
      "Layer (type)                 Output Shape              Param #   \n",
      "=================================================================\n",
      "input_1 (InputLayer)         [(None, 150, 150, 3)]     0         \n",
      "_________________________________________________________________\n",
      "block1_conv1 (Conv2D)        (None, 150, 150, 64)      1792      \n",
      "_________________________________________________________________\n",
      "block1_conv2 (Conv2D)        (None, 150, 150, 64)      36928     \n",
      "_________________________________________________________________\n",
      "block1_pool (MaxPooling2D)   (None, 75, 75, 64)        0         \n",
      "_________________________________________________________________\n",
      "block2_conv1 (Conv2D)        (None, 75, 75, 128)       73856     \n",
      "_________________________________________________________________\n",
      "block2_conv2 (Conv2D)        (None, 75, 75, 128)       147584    \n",
      "_________________________________________________________________\n",
      "block2_pool (MaxPooling2D)   (None, 37, 37, 128)       0         \n",
      "_________________________________________________________________\n",
      "block3_conv1 (Conv2D)        (None, 37, 37, 256)       295168    \n",
      "_________________________________________________________________\n",
      "block3_conv2 (Conv2D)        (None, 37, 37, 256)       590080    \n",
      "_________________________________________________________________\n",
      "block3_conv3 (Conv2D)        (None, 37, 37, 256)       590080    \n",
      "_________________________________________________________________\n",
      "block3_pool (MaxPooling2D)   (None, 18, 18, 256)       0         \n",
      "_________________________________________________________________\n",
      "block4_conv1 (Conv2D)        (None, 18, 18, 512)       1180160   \n",
      "_________________________________________________________________\n",
      "block4_conv2 (Conv2D)        (None, 18, 18, 512)       2359808   \n",
      "_________________________________________________________________\n",
      "block4_conv3 (Conv2D)        (None, 18, 18, 512)       2359808   \n",
      "_________________________________________________________________\n",
      "block4_pool (MaxPooling2D)   (None, 9, 9, 512)         0         \n",
      "_________________________________________________________________\n",
      "block5_conv1 (Conv2D)        (None, 9, 9, 512)         2359808   \n",
      "_________________________________________________________________\n",
      "block5_conv2 (Conv2D)        (None, 9, 9, 512)         2359808   \n",
      "_________________________________________________________________\n",
      "block5_conv3 (Conv2D)        (None, 9, 9, 512)         2359808   \n",
      "_________________________________________________________________\n",
      "block5_pool (MaxPooling2D)   (None, 4, 4, 512)         0         \n",
      "=================================================================\n",
      "Total params: 14,714,688\n",
      "Trainable params: 0\n",
      "Non-trainable params: 14,714,688\n",
      "_________________________________________________________________\n"
     ]
    }
   ],
   "source": [
    "conv_base.summary()"
   ]
  },
  {
   "cell_type": "code",
   "execution_count": 15,
   "metadata": {},
   "outputs": [],
   "source": [
    "#In order to fine-tune the model we unfreeze the last three convolutional layers\n",
    "\n",
    "conv_base.trainable = True\n",
    "\n",
    "set_trainable = False\n",
    "for layer in conv_base.layers:\n",
    "    if layer.name == 'block5_conv1':\n",
    "        set_trainable = True\n",
    "    if set_trainable:\n",
    "        layer.trainable = True\n",
    "    else:\n",
    "        layer.trainable = False"
   ]
  },
  {
   "cell_type": "code",
   "execution_count": null,
   "metadata": {},
   "outputs": [],
   "source": []
  }
 ],
 "metadata": {
  "kernelspec": {
   "display_name": "Python 3",
   "language": "python",
   "name": "python3"
  },
  "language_info": {
   "codemirror_mode": {
    "name": "ipython",
    "version": 3
   },
   "file_extension": ".py",
   "mimetype": "text/x-python",
   "name": "python",
   "nbconvert_exporter": "python",
   "pygments_lexer": "ipython3",
   "version": "3.5.2"
  }
 },
 "nbformat": 4,
 "nbformat_minor": 2
}
