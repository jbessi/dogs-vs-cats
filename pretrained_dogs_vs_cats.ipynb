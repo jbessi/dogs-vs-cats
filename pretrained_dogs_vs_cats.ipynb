{
 "cells": [
  {
   "cell_type": "code",
   "execution_count": 1,
   "metadata": {},
   "outputs": [
    {
     "name": "stderr",
     "output_type": "stream",
     "text": [
      "WARNING: Logging before flag parsing goes to stderr.\n",
      "W0515 17:53:43.733068 140120845604608 deprecation.py:506] From /home/joel/anaconda3/envs/tensorflow-gpu-3-5-2/lib/python3.5/site-packages/tensorflow/python/ops/init_ops.py:1257: calling VarianceScaling.__init__ (from tensorflow.python.ops.init_ops) with dtype is deprecated and will be removed in a future version.\n",
      "Instructions for updating:\n",
      "Call initializer instance with the dtype argument instead of passing it to the constructor\n"
     ]
    },
    {
     "name": "stdout",
     "output_type": "stream",
     "text": [
      "Model: \"vgg16\"\n",
      "_________________________________________________________________\n",
      "Layer (type)                 Output Shape              Param #   \n",
      "=================================================================\n",
      "input_1 (InputLayer)         [(None, 150, 150, 3)]     0         \n",
      "_________________________________________________________________\n",
      "block1_conv1 (Conv2D)        (None, 150, 150, 64)      1792      \n",
      "_________________________________________________________________\n",
      "block1_conv2 (Conv2D)        (None, 150, 150, 64)      36928     \n",
      "_________________________________________________________________\n",
      "block1_pool (MaxPooling2D)   (None, 75, 75, 64)        0         \n",
      "_________________________________________________________________\n",
      "block2_conv1 (Conv2D)        (None, 75, 75, 128)       73856     \n",
      "_________________________________________________________________\n",
      "block2_conv2 (Conv2D)        (None, 75, 75, 128)       147584    \n",
      "_________________________________________________________________\n",
      "block2_pool (MaxPooling2D)   (None, 37, 37, 128)       0         \n",
      "_________________________________________________________________\n",
      "block3_conv1 (Conv2D)        (None, 37, 37, 256)       295168    \n",
      "_________________________________________________________________\n",
      "block3_conv2 (Conv2D)        (None, 37, 37, 256)       590080    \n",
      "_________________________________________________________________\n",
      "block3_conv3 (Conv2D)        (None, 37, 37, 256)       590080    \n",
      "_________________________________________________________________\n",
      "block3_pool (MaxPooling2D)   (None, 18, 18, 256)       0         \n",
      "_________________________________________________________________\n",
      "block4_conv1 (Conv2D)        (None, 18, 18, 512)       1180160   \n",
      "_________________________________________________________________\n",
      "block4_conv2 (Conv2D)        (None, 18, 18, 512)       2359808   \n",
      "_________________________________________________________________\n",
      "block4_conv3 (Conv2D)        (None, 18, 18, 512)       2359808   \n",
      "_________________________________________________________________\n",
      "block4_pool (MaxPooling2D)   (None, 9, 9, 512)         0         \n",
      "_________________________________________________________________\n",
      "block5_conv1 (Conv2D)        (None, 9, 9, 512)         2359808   \n",
      "_________________________________________________________________\n",
      "block5_conv2 (Conv2D)        (None, 9, 9, 512)         2359808   \n",
      "_________________________________________________________________\n",
      "block5_conv3 (Conv2D)        (None, 9, 9, 512)         2359808   \n",
      "_________________________________________________________________\n",
      "block5_pool (MaxPooling2D)   (None, 4, 4, 512)         0         \n",
      "=================================================================\n",
      "Total params: 14,714,688\n",
      "Trainable params: 14,714,688\n",
      "Non-trainable params: 0\n",
      "_________________________________________________________________\n"
     ]
    }
   ],
   "source": [
    "#Installing VGG16 convolutional base\n",
    "from tensorflow.keras.applications import VGG16\n",
    "\n",
    "conv_base = VGG16(weights='imagenet', include_top=False, input_shape=(150,150,3))\n",
    "\n",
    "conv_base.summary()"
   ]
  },
  {
   "cell_type": "code",
   "execution_count": 2,
   "metadata": {},
   "outputs": [
    {
     "name": "stdout",
     "output_type": "stream",
     "text": [
      "Found 2000 images belonging to 2 classes.\n",
      "Found 1000 images belonging to 2 classes.\n",
      "Found 1000 images belonging to 2 classes.\n"
     ]
    }
   ],
   "source": [
    "#Extracting features using pretrained conv base\n",
    "\n",
    "import os\n",
    "import numpy as np\n",
    "from tensorflow.keras.preprocessing.image import  ImageDataGenerator\n",
    "\n",
    "base_dir = '/home/joel/Dogs_vs_Cats_Dataset_small/'\n",
    "train_dir = os.path.join(base_dir, 'train')\n",
    "validation_dir = os.path.join(base_dir, 'validation')\n",
    "test_dir = os.path.join(base_dir, 'test')\n",
    "\n",
    "datagen = ImageDataGenerator(rescale=1./255)\n",
    "batch_size = 20\n",
    "\n",
    "def extract_features(directory, sample_count):\n",
    "    features = np.zeros(shape=(sample_count, 4, 4, 512))\n",
    "    labels = np.zeros(shape=(sample_count))\n",
    "    generator = datagen.flow_from_directory(directory, target_size=(150,150), batch_size=batch_size,\n",
    "                                           class_mode='binary')\n",
    "    i = 0\n",
    "    for inputs_batch, labels_batch in generator:\n",
    "        features_batch = conv_base.predict(inputs_batch)\n",
    "        features[i * batch_size : (i + 1) * batch_size] = features_batch #replacing the i * batch_size to (i+1) *\n",
    "                                                                         #batch_size (4,4,512)-zero arrays \n",
    "                                                                         #with the predictions\n",
    "        labels[i * batch_size : (i + 1) * batch_size] = labels_batch     #same for labels\n",
    "        i += 1\n",
    "        if i * batch_size >= sample_count:\n",
    "            break #break the indefinitely loop after every image has seen once\n",
    "    return features, labels\n",
    "\n",
    "train_features, train_labels = extract_features(train_dir, 2000)\n",
    "validation_features, validation_labels = extract_features(validation_dir, 1000)\n",
    "test_features, test_labels = extract_features(test_dir,1000)"
   ]
  },
  {
   "cell_type": "code",
   "execution_count": 3,
   "metadata": {},
   "outputs": [],
   "source": [
    "train_features = np.reshape(train_features, (2000, 4*4*512))\n",
    "validation_features = np.reshape(validation_features, (1000, 4*4*512))\n",
    "test_features = np.reshape(test_features, (1000, 4*4*512))"
   ]
  },
  {
   "cell_type": "code",
   "execution_count": 4,
   "metadata": {},
   "outputs": [
    {
     "name": "stdout",
     "output_type": "stream",
     "text": [
      "Train on 2000 samples, validate on 1000 samples\n",
      "Epoch 1/30\n",
      "2000/2000 [==============================] - 1s 371us/sample - loss: 0.6272 - acc: 0.6500 - val_loss: 0.4646 - val_acc: 0.8220\n",
      "Epoch 2/30\n",
      "2000/2000 [==============================] - 0s 215us/sample - loss: 0.4379 - acc: 0.8075 - val_loss: 0.3740 - val_acc: 0.8600\n",
      "Epoch 3/30\n",
      "2000/2000 [==============================] - 0s 212us/sample - loss: 0.3780 - acc: 0.8405 - val_loss: 0.3313 - val_acc: 0.8720\n",
      "Epoch 4/30\n",
      "2000/2000 [==============================] - 0s 223us/sample - loss: 0.3202 - acc: 0.8600 - val_loss: 0.3128 - val_acc: 0.8810\n",
      "Epoch 5/30\n",
      "2000/2000 [==============================] - 0s 216us/sample - loss: 0.2899 - acc: 0.8830 - val_loss: 0.2880 - val_acc: 0.8860\n",
      "Epoch 6/30\n",
      "2000/2000 [==============================] - 0s 218us/sample - loss: 0.2725 - acc: 0.8975 - val_loss: 0.2793 - val_acc: 0.8850\n",
      "Epoch 7/30\n",
      "2000/2000 [==============================] - 0s 212us/sample - loss: 0.2525 - acc: 0.8980 - val_loss: 0.2716 - val_acc: 0.8890\n",
      "Epoch 8/30\n",
      "2000/2000 [==============================] - 0s 220us/sample - loss: 0.2362 - acc: 0.9060 - val_loss: 0.2664 - val_acc: 0.8880\n",
      "Epoch 9/30\n",
      "2000/2000 [==============================] - 0s 214us/sample - loss: 0.2204 - acc: 0.9105 - val_loss: 0.2692 - val_acc: 0.8800\n",
      "Epoch 10/30\n",
      "2000/2000 [==============================] - 0s 211us/sample - loss: 0.2110 - acc: 0.9260 - val_loss: 0.2494 - val_acc: 0.8960\n",
      "Epoch 11/30\n",
      "2000/2000 [==============================] - 0s 212us/sample - loss: 0.2010 - acc: 0.9260 - val_loss: 0.2489 - val_acc: 0.8910\n",
      "Epoch 12/30\n",
      "2000/2000 [==============================] - 0s 214us/sample - loss: 0.1940 - acc: 0.9295 - val_loss: 0.2440 - val_acc: 0.9010\n",
      "Epoch 13/30\n",
      "2000/2000 [==============================] - 0s 213us/sample - loss: 0.1825 - acc: 0.9385 - val_loss: 0.2545 - val_acc: 0.8880\n",
      "Epoch 14/30\n",
      "2000/2000 [==============================] - 0s 211us/sample - loss: 0.1737 - acc: 0.9355 - val_loss: 0.2556 - val_acc: 0.8870\n",
      "Epoch 15/30\n",
      "2000/2000 [==============================] - 0s 216us/sample - loss: 0.1699 - acc: 0.9375 - val_loss: 0.2395 - val_acc: 0.9030\n",
      "Epoch 16/30\n",
      "2000/2000 [==============================] - 0s 212us/sample - loss: 0.1575 - acc: 0.9390 - val_loss: 0.2408 - val_acc: 0.8980\n",
      "Epoch 17/30\n",
      "2000/2000 [==============================] - 0s 212us/sample - loss: 0.1528 - acc: 0.9475 - val_loss: 0.2403 - val_acc: 0.8950\n",
      "Epoch 18/30\n",
      "2000/2000 [==============================] - 0s 211us/sample - loss: 0.1525 - acc: 0.9495 - val_loss: 0.2353 - val_acc: 0.9050\n",
      "Epoch 19/30\n",
      "2000/2000 [==============================] - 0s 214us/sample - loss: 0.1419 - acc: 0.9535 - val_loss: 0.2445 - val_acc: 0.8990\n",
      "Epoch 20/30\n",
      "2000/2000 [==============================] - 0s 215us/sample - loss: 0.1406 - acc: 0.9510 - val_loss: 0.2375 - val_acc: 0.9000\n",
      "Epoch 21/30\n",
      "2000/2000 [==============================] - 0s 213us/sample - loss: 0.1309 - acc: 0.9535 - val_loss: 0.2332 - val_acc: 0.9060\n",
      "Epoch 22/30\n",
      "2000/2000 [==============================] - 0s 215us/sample - loss: 0.1216 - acc: 0.9620 - val_loss: 0.2361 - val_acc: 0.8990\n",
      "Epoch 23/30\n",
      "2000/2000 [==============================] - 0s 217us/sample - loss: 0.1185 - acc: 0.9615 - val_loss: 0.2379 - val_acc: 0.9000\n",
      "Epoch 24/30\n",
      "2000/2000 [==============================] - 0s 215us/sample - loss: 0.1163 - acc: 0.9645 - val_loss: 0.2358 - val_acc: 0.9010\n",
      "Epoch 25/30\n",
      "2000/2000 [==============================] - 0s 215us/sample - loss: 0.1116 - acc: 0.9640 - val_loss: 0.2408 - val_acc: 0.8970\n",
      "Epoch 26/30\n",
      "2000/2000 [==============================] - 0s 216us/sample - loss: 0.1099 - acc: 0.9630 - val_loss: 0.2357 - val_acc: 0.9010\n",
      "Epoch 27/30\n",
      "2000/2000 [==============================] - 0s 211us/sample - loss: 0.1016 - acc: 0.9670 - val_loss: 0.2370 - val_acc: 0.9000\n",
      "Epoch 28/30\n",
      "2000/2000 [==============================] - 0s 213us/sample - loss: 0.1013 - acc: 0.9670 - val_loss: 0.2427 - val_acc: 0.9010\n",
      "Epoch 29/30\n",
      "2000/2000 [==============================] - 0s 218us/sample - loss: 0.0956 - acc: 0.9715 - val_loss: 0.2399 - val_acc: 0.9040\n",
      "Epoch 30/30\n",
      "2000/2000 [==============================] - 0s 211us/sample - loss: 0.0858 - acc: 0.9775 - val_loss: 0.2384 - val_acc: 0.9000\n"
     ]
    }
   ],
   "source": [
    "#Define densely connected classifier with dropout and train it\n",
    "\n",
    "from tensorflow.keras import models\n",
    "from tensorflow.keras import layers\n",
    "from tensorflow.keras import optimizers\n",
    "\n",
    "model = models.Sequential()\n",
    "model.add(layers.Dense(256, activation='relu', input_dim=4*4*512))\n",
    "model.add(layers.Dropout(0.5))\n",
    "model.add(layers.Dense(1, activation='sigmoid'))\n",
    "\n",
    "model.compile(optimizer=optimizers.RMSprop(lr=2e-5), loss='binary_crossentropy', metrics=['acc'])\n",
    "\n",
    "history = model.fit(train_features, train_labels, epochs=30,batch_size=20,\n",
    "                    validation_data=(validation_features,validation_labels))"
   ]
  },
  {
   "cell_type": "code",
   "execution_count": 5,
   "metadata": {},
   "outputs": [
    {
     "data": {
      "text/plain": [
       "<Figure size 640x480 with 1 Axes>"
      ]
     },
     "metadata": {},
     "output_type": "display_data"
    },
    {
     "data": {
      "text/plain": [
       "<Figure size 640x480 with 1 Axes>"
      ]
     },
     "metadata": {},
     "output_type": "display_data"
    }
   ],
   "source": [
    "#Plotting test and validation accuracy and loss\n",
    "\n",
    "import matplotlib.pyplot as plt\n",
    "\n",
    "acc = history.history['acc']\n",
    "val_acc = history.history['val_acc']\n",
    "loss = history.history['loss']\n",
    "val_loss = history.history['val_loss']\n",
    "\n",
    "epochs = range(1, len(acc)+1)\n",
    "\n",
    "plt.plot(epochs, acc, 'bo', label='Training acc')\n",
    "plt.plot(epochs, val_acc, 'b', label='Validation acc')\n",
    "plt.title('Training and validation accuracy')\n",
    "plt.legend()\n",
    "\n",
    "plt.figure()\n",
    "\n",
    "plt.plot(epochs, loss, 'bo', label='Training loss')\n",
    "plt.plot(epochs, val_loss, 'b', label='Validation loss')\n",
    "plt.title('Training and validation loss')\n",
    "plt.legend()\n",
    "\n",
    "plt.show()"
   ]
  },
  {
   "cell_type": "code",
   "execution_count": 6,
   "metadata": {},
   "outputs": [],
   "source": [
    "#Adding the conv_base to a Sequential model for running the inputs\n",
    "#end-to-end\n",
    "\n",
    "from tensorflow.keras import models\n",
    "from tensorflow.keras import layers\n",
    "\n",
    "model = models.Sequential()\n",
    "model.add(conv_base)\n",
    "model.add(layers.Flatten())\n",
    "model.add(layers.Dense(256, activation='relu'))\n",
    "model.add(layers.Dense(1, activation='sigmoid'))"
   ]
  },
  {
   "cell_type": "code",
   "execution_count": 7,
   "metadata": {},
   "outputs": [
    {
     "name": "stdout",
     "output_type": "stream",
     "text": [
      "Model: \"sequential_1\"\n",
      "_________________________________________________________________\n",
      "Layer (type)                 Output Shape              Param #   \n",
      "=================================================================\n",
      "vgg16 (Model)                (None, 4, 4, 512)         14714688  \n",
      "_________________________________________________________________\n",
      "flatten (Flatten)            (None, 8192)              0         \n",
      "_________________________________________________________________\n",
      "dense_2 (Dense)              (None, 256)               2097408   \n",
      "_________________________________________________________________\n",
      "dense_3 (Dense)              (None, 1)                 257       \n",
      "=================================================================\n",
      "Total params: 16,812,353\n",
      "Trainable params: 16,812,353\n",
      "Non-trainable params: 0\n",
      "_________________________________________________________________\n"
     ]
    }
   ],
   "source": [
    "model.summary()"
   ]
  },
  {
   "cell_type": "code",
   "execution_count": 8,
   "metadata": {},
   "outputs": [
    {
     "name": "stdout",
     "output_type": "stream",
     "text": [
      "This is the number of trainable weights before freezing the conv base: 30\n",
      "This is the number of trainable weights after freezing the conv base: 4\n"
     ]
    }
   ],
   "source": [
    "#before compiling and trianing the model, we have to freeze\n",
    "#the conv base (since we don't want to modify the previous learned\n",
    "#representation during training)\n",
    "\n",
    "print('This is the number of trainable weights '\n",
    "      'before freezing the conv base:', len(model.trainable_weights))\n",
    "\n",
    "conv_base.trainable=False\n",
    "\n",
    "print('This is the number of trainable weights '\n",
    "      'after freezing the conv base:', len(model.trainable_weights))\n",
    "\n",
    "#The trainable weights are indeed the Weight matrices and the bias vector"
   ]
  },
  {
   "cell_type": "code",
   "execution_count": 9,
   "metadata": {},
   "outputs": [
    {
     "name": "stdout",
     "output_type": "stream",
     "text": [
      "Found 2000 images belonging to 2 classes.\n",
      "Found 1000 images belonging to 2 classes.\n"
     ]
    },
    {
     "name": "stderr",
     "output_type": "stream",
     "text": [
      "Using TensorFlow backend.\n"
     ]
    },
    {
     "name": "stdout",
     "output_type": "stream",
     "text": [
      "Epoch 1/30\n",
      "100/100 - 16s - loss: 0.5874 - acc: 0.6980 - val_loss: 0.4329 - val_acc: 0.8410\n",
      "Epoch 2/30\n",
      "100/100 - 15s - loss: 0.4797 - acc: 0.7930 - val_loss: 0.3640 - val_acc: 0.8690\n",
      "Epoch 3/30\n",
      "100/100 - 15s - loss: 0.4269 - acc: 0.8190 - val_loss: 0.3169 - val_acc: 0.8860\n",
      "Epoch 4/30\n",
      "100/100 - 15s - loss: 0.4084 - acc: 0.8175 - val_loss: 0.2971 - val_acc: 0.8810\n",
      "Epoch 5/30\n",
      "100/100 - 15s - loss: 0.3830 - acc: 0.8330 - val_loss: 0.2832 - val_acc: 0.8860\n",
      "Epoch 6/30\n",
      "100/100 - 15s - loss: 0.3729 - acc: 0.8360 - val_loss: 0.2732 - val_acc: 0.8900\n",
      "Epoch 7/30\n",
      "100/100 - 15s - loss: 0.3666 - acc: 0.8370 - val_loss: 0.2670 - val_acc: 0.8930\n",
      "Epoch 8/30\n",
      "100/100 - 15s - loss: 0.3516 - acc: 0.8390 - val_loss: 0.2659 - val_acc: 0.8980\n",
      "Epoch 9/30\n",
      "100/100 - 15s - loss: 0.3488 - acc: 0.8445 - val_loss: 0.2563 - val_acc: 0.9030\n",
      "Epoch 10/30\n",
      "100/100 - 15s - loss: 0.3422 - acc: 0.8495 - val_loss: 0.2520 - val_acc: 0.8980\n",
      "Epoch 11/30\n",
      "100/100 - 15s - loss: 0.3372 - acc: 0.8500 - val_loss: 0.2505 - val_acc: 0.9010\n",
      "Epoch 12/30\n",
      "100/100 - 15s - loss: 0.3132 - acc: 0.8650 - val_loss: 0.2476 - val_acc: 0.9030\n",
      "Epoch 13/30\n",
      "100/100 - 15s - loss: 0.3236 - acc: 0.8660 - val_loss: 0.2421 - val_acc: 0.9090\n",
      "Epoch 14/30\n",
      "100/100 - 15s - loss: 0.3096 - acc: 0.8690 - val_loss: 0.2413 - val_acc: 0.9090\n",
      "Epoch 15/30\n",
      "100/100 - 15s - loss: 0.3217 - acc: 0.8510 - val_loss: 0.2594 - val_acc: 0.8890\n",
      "Epoch 16/30\n",
      "100/100 - 15s - loss: 0.3139 - acc: 0.8645 - val_loss: 0.2385 - val_acc: 0.9120\n",
      "Epoch 17/30\n",
      "100/100 - 15s - loss: 0.3029 - acc: 0.8715 - val_loss: 0.2451 - val_acc: 0.9020\n",
      "Epoch 18/30\n",
      "100/100 - 15s - loss: 0.3045 - acc: 0.8665 - val_loss: 0.2396 - val_acc: 0.8990\n",
      "Epoch 19/30\n",
      "100/100 - 15s - loss: 0.2992 - acc: 0.8645 - val_loss: 0.2357 - val_acc: 0.9080\n",
      "Epoch 20/30\n",
      "100/100 - 15s - loss: 0.2948 - acc: 0.8745 - val_loss: 0.2368 - val_acc: 0.9050\n",
      "Epoch 21/30\n",
      "100/100 - 15s - loss: 0.2853 - acc: 0.8790 - val_loss: 0.2401 - val_acc: 0.9040\n",
      "Epoch 22/30\n",
      "100/100 - 15s - loss: 0.2984 - acc: 0.8730 - val_loss: 0.2348 - val_acc: 0.9080\n",
      "Epoch 23/30\n",
      "100/100 - 15s - loss: 0.2921 - acc: 0.8720 - val_loss: 0.2407 - val_acc: 0.9070\n",
      "Epoch 24/30\n",
      "100/100 - 15s - loss: 0.2939 - acc: 0.8750 - val_loss: 0.2482 - val_acc: 0.8940\n",
      "Epoch 25/30\n",
      "100/100 - 15s - loss: 0.3030 - acc: 0.8665 - val_loss: 0.2483 - val_acc: 0.8960\n",
      "Epoch 26/30\n",
      "100/100 - 15s - loss: 0.2797 - acc: 0.8800 - val_loss: 0.2400 - val_acc: 0.9060\n",
      "Epoch 27/30\n",
      "100/100 - 15s - loss: 0.2848 - acc: 0.8790 - val_loss: 0.2438 - val_acc: 0.8990\n",
      "Epoch 28/30\n",
      "100/100 - 15s - loss: 0.2871 - acc: 0.8780 - val_loss: 0.2339 - val_acc: 0.9060\n",
      "Epoch 29/30\n",
      "100/100 - 15s - loss: 0.2788 - acc: 0.8790 - val_loss: 0.2347 - val_acc: 0.9060\n",
      "Epoch 30/30\n",
      "100/100 - 15s - loss: 0.2860 - acc: 0.8710 - val_loss: 0.2330 - val_acc: 0.9110\n"
     ]
    }
   ],
   "source": [
    "#training the model end-to-end with frozen conv-base\n",
    "\n",
    "from keras.preprocessing.image import ImageDataGenerator\n",
    "\n",
    "train_datagen = ImageDataGenerator(\n",
    "      rescale=1./255,\n",
    "      rotation_range=40,\n",
    "      width_shift_range=0.2,\n",
    "      height_shift_range=0.2,\n",
    "      shear_range=0.2,\n",
    "      zoom_range=0.2,\n",
    "      horizontal_flip=True,\n",
    "      fill_mode='nearest')\n",
    "\n",
    "# Note that the validation data should not be augmented!\n",
    "test_datagen = ImageDataGenerator(rescale=1./255)\n",
    "\n",
    "train_generator = train_datagen.flow_from_directory(\n",
    "        train_dir,\n",
    "        target_size=(150, 150),\n",
    "        batch_size=20,\n",
    "        class_mode='binary')\n",
    "\n",
    "validation_generator = test_datagen.flow_from_directory(\n",
    "        validation_dir,\n",
    "        target_size=(150, 150),\n",
    "        batch_size=20,\n",
    "        class_mode='binary')\n",
    "\n",
    "model.compile(loss='binary_crossentropy',\n",
    "              optimizer=optimizers.RMSprop(lr=2e-5),\n",
    "              metrics=['acc'])\n",
    "\n",
    "history = model.fit_generator(\n",
    "      train_generator,\n",
    "      steps_per_epoch=100,\n",
    "      epochs=30,\n",
    "      validation_data=validation_generator,\n",
    "      validation_steps=50,\n",
    "      verbose=2)"
   ]
  },
  {
   "cell_type": "code",
   "execution_count": 12,
   "metadata": {},
   "outputs": [
    {
     "data": {
      "image/png": "[encoded data removed]",
      "text/plain": [
       "<Figure size 432x288 with 1 Axes>"
      ]
     },
     "metadata": {
      "needs_background": "light"
     },
     "output_type": "display_data"
    },
    {
     "data": {
      "image/png": "[encoded data removed]",
      "text/plain": [
       "<Figure size 432x288 with 1 Axes>"
      ]
     },
     "metadata": {
      "needs_background": "light"
     },
     "output_type": "display_data"
    }
   ],
   "source": [
    "#Plotting the accuracy and loss for the model with frozen conv base and\n",
    "#data augmentation\n",
    "\n",
    "import matplotlib.pyplot as plt\n",
    "\n",
    "acc = history.history['acc']\n",
    "val_acc = history.history['val_acc']\n",
    "loss = history.history['loss']\n",
    "val_loss = history.history['val_loss']\n",
    "\n",
    "epochs = range(1, len(acc)+1)\n",
    "\n",
    "plt.plot(epochs, acc, 'bo', label='Training acc')\n",
    "plt.plot(epochs, val_acc, 'b', label='Validation acc')\n",
    "plt.title('Training and validation accuracy')\n",
    "plt.legend()\n",
    "\n",
    "plt.figure()\n",
    "\n",
    "plt.plot(epochs, loss, 'bo', label='Training loss')\n",
    "plt.plot(epochs, val_loss, 'b', label='Validation loss')\n",
    "plt.title('Training and validation loss')\n",
    "plt.legend()\n",
    "\n",
    "plt.show()"
   ]
  },
  {
   "cell_type": "code",
   "execution_count": 14,
   "metadata": {},
   "outputs": [
    {
     "name": "stdout",
     "output_type": "stream",
     "text": [
      "Model: \"vgg16\"\n",
      "_________________________________________________________________\n",
      "Layer (type)                 Output Shape              Param #   \n",
      "=================================================================\n",
      "input_1 (InputLayer)         [(None, 150, 150, 3)]     0         \n",
      "_________________________________________________________________\n",
      "block1_conv1 (Conv2D)        (None, 150, 150, 64)      1792      \n",
      "_________________________________________________________________\n",
      "block1_conv2 (Conv2D)        (None, 150, 150, 64)      36928     \n",
      "_________________________________________________________________\n",
      "block1_pool (MaxPooling2D)   (None, 75, 75, 64)        0         \n",
      "_________________________________________________________________\n",
      "block2_conv1 (Conv2D)        (None, 75, 75, 128)       73856     \n",
      "_________________________________________________________________\n",
      "block2_conv2 (Conv2D)        (None, 75, 75, 128)       147584    \n",
      "_________________________________________________________________\n",
      "block2_pool (MaxPooling2D)   (None, 37, 37, 128)       0         \n",
      "_________________________________________________________________\n",
      "block3_conv1 (Conv2D)        (None, 37, 37, 256)       295168    \n",
      "_________________________________________________________________\n",
      "block3_conv2 (Conv2D)        (None, 37, 37, 256)       590080    \n",
      "_________________________________________________________________\n",
      "block3_conv3 (Conv2D)        (None, 37, 37, 256)       590080    \n",
      "_________________________________________________________________\n",
      "block3_pool (MaxPooling2D)   (None, 18, 18, 256)       0         \n",
      "_________________________________________________________________\n",
      "block4_conv1 (Conv2D)        (None, 18, 18, 512)       1180160   \n",
      "_________________________________________________________________\n",
      "block4_conv2 (Conv2D)        (None, 18, 18, 512)       2359808   \n",
      "_________________________________________________________________\n",
      "block4_conv3 (Conv2D)        (None, 18, 18, 512)       2359808   \n",
      "_________________________________________________________________\n",
      "block4_pool (MaxPooling2D)   (None, 9, 9, 512)         0         \n",
      "_________________________________________________________________\n",
      "block5_conv1 (Conv2D)        (None, 9, 9, 512)         2359808   \n",
      "_________________________________________________________________\n",
      "block5_conv2 (Conv2D)        (None, 9, 9, 512)         2359808   \n",
      "_________________________________________________________________\n",
      "block5_conv3 (Conv2D)        (None, 9, 9, 512)         2359808   \n",
      "_________________________________________________________________\n",
      "block5_pool (MaxPooling2D)   (None, 4, 4, 512)         0         \n",
      "=================================================================\n",
      "Total params: 14,714,688\n",
      "Trainable params: 0\n",
      "Non-trainable params: 14,714,688\n",
      "_________________________________________________________________\n"
     ]
    }
   ],
   "source": [
    "conv_base.summary()"
   ]
  },
  {
   "cell_type": "code",
   "execution_count": 15,
   "metadata": {},
   "outputs": [],
   "source": [
    "#In order to fine-tune the model we unfreeze the last three convolutional layers\n",
    "\n",
    "conv_base.trainable = True\n",
    "\n",
    "set_trainable = False\n",
    "for layer in conv_base.layers:\n",
    "    if layer.name == 'block5_conv1':\n",
    "        set_trainable = True\n",
    "    if set_trainable:\n",
    "        layer.trainable = True\n",
    "    else:\n",
    "        layer.trainable = False"
   ]
  },
  {
   "cell_type": "code",
   "execution_count": 17,
   "metadata": {
    "scrolled": false
   },
   "outputs": [
    {
     "name": "stdout",
     "output_type": "stream",
     "text": [
      "Epoch 1/100\n",
      "100/100 [==============================] - 16s 163ms/step - loss: 0.2808 - acc: 0.8740 - val_loss: 0.2208 - val_acc: 0.9140\n",
      "Epoch 2/100\n",
      "100/100 [==============================] - 15s 152ms/step - loss: 0.2418 - acc: 0.8905 - val_loss: 0.2090 - val_acc: 0.9210\n",
      "Epoch 3/100\n",
      "100/100 [==============================] - 15s 152ms/step - loss: 0.2485 - acc: 0.8885 - val_loss: 0.1950 - val_acc: 0.9230\n",
      "Epoch 4/100\n",
      "100/100 [==============================] - 15s 151ms/step - loss: 0.2329 - acc: 0.9045 - val_loss: 0.2071 - val_acc: 0.9240\n",
      "Epoch 5/100\n",
      "100/100 [==============================] - 15s 152ms/step - loss: 0.2147 - acc: 0.9145 - val_loss: 0.1891 - val_acc: 0.9300\n",
      "Epoch 6/100\n",
      "100/100 [==============================] - 15s 151ms/step - loss: 0.1892 - acc: 0.9195 - val_loss: 0.1852 - val_acc: 0.9280\n",
      "Epoch 7/100\n",
      "100/100 [==============================] - 15s 153ms/step - loss: 0.1727 - acc: 0.9255 - val_loss: 0.1944 - val_acc: 0.9320\n",
      "Epoch 8/100\n",
      "100/100 [==============================] - 15s 152ms/step - loss: 0.1857 - acc: 0.9220 - val_loss: 0.2156 - val_acc: 0.9200\n",
      "Epoch 9/100\n",
      "100/100 [==============================] - 15s 152ms/step - loss: 0.1607 - acc: 0.9340 - val_loss: 0.1722 - val_acc: 0.9360\n",
      "Epoch 10/100\n",
      "100/100 [==============================] - 15s 152ms/step - loss: 0.1548 - acc: 0.9385 - val_loss: 0.1775 - val_acc: 0.9290\n",
      "Epoch 11/100\n",
      "100/100 [==============================] - 15s 152ms/step - loss: 0.1380 - acc: 0.9440 - val_loss: 0.1828 - val_acc: 0.9300\n",
      "Epoch 12/100\n",
      "100/100 [==============================] - 15s 151ms/step - loss: 0.1442 - acc: 0.9435 - val_loss: 0.1905 - val_acc: 0.9280\n",
      "Epoch 13/100\n",
      "100/100 [==============================] - 15s 154ms/step - loss: 0.1394 - acc: 0.9440 - val_loss: 0.2038 - val_acc: 0.9220\n",
      "Epoch 14/100\n",
      "100/100 [==============================] - 15s 151ms/step - loss: 0.1194 - acc: 0.9520 - val_loss: 0.1878 - val_acc: 0.9340\n",
      "Epoch 15/100\n",
      "100/100 [==============================] - 15s 152ms/step - loss: 0.1270 - acc: 0.9475 - val_loss: 0.1781 - val_acc: 0.9330\n",
      "Epoch 16/100\n",
      "100/100 [==============================] - 15s 151ms/step - loss: 0.1329 - acc: 0.9440 - val_loss: 0.1787 - val_acc: 0.9330\n",
      "Epoch 17/100\n",
      "100/100 [==============================] - 15s 152ms/step - loss: 0.1069 - acc: 0.9585 - val_loss: 0.2218 - val_acc: 0.9170\n",
      "Epoch 18/100\n",
      "100/100 [==============================] - 15s 153ms/step - loss: 0.1110 - acc: 0.9560 - val_loss: 0.1792 - val_acc: 0.9370\n",
      "Epoch 19/100\n",
      "100/100 [==============================] - 15s 154ms/step - loss: 0.1105 - acc: 0.9600 - val_loss: 0.1771 - val_acc: 0.9350\n",
      "Epoch 20/100\n",
      "100/100 [==============================] - 15s 152ms/step - loss: 0.0957 - acc: 0.9620 - val_loss: 0.2148 - val_acc: 0.9260\n",
      "Epoch 21/100\n",
      "100/100 [==============================] - 15s 152ms/step - loss: 0.1001 - acc: 0.9620 - val_loss: 0.2276 - val_acc: 0.9240\n",
      "Epoch 22/100\n",
      "100/100 [==============================] - 15s 151ms/step - loss: 0.0901 - acc: 0.9605 - val_loss: 0.1886 - val_acc: 0.9330\n",
      "Epoch 23/100\n",
      "100/100 [==============================] - 15s 153ms/step - loss: 0.0993 - acc: 0.9585 - val_loss: 0.1911 - val_acc: 0.9290\n",
      "Epoch 24/100\n",
      "100/100 [==============================] - 15s 152ms/step - loss: 0.0802 - acc: 0.9675 - val_loss: 0.1948 - val_acc: 0.9320\n",
      "Epoch 25/100\n",
      "100/100 [==============================] - 15s 152ms/step - loss: 0.0724 - acc: 0.9755 - val_loss: 0.2623 - val_acc: 0.9210\n",
      "Epoch 26/100\n",
      "100/100 [==============================] - 15s 153ms/step - loss: 0.0762 - acc: 0.9715 - val_loss: 0.1965 - val_acc: 0.9320\n",
      "Epoch 27/100\n",
      "100/100 [==============================] - 15s 152ms/step - loss: 0.0699 - acc: 0.9740 - val_loss: 0.3533 - val_acc: 0.8990\n",
      "Epoch 28/100\n",
      "100/100 [==============================] - 15s 152ms/step - loss: 0.0742 - acc: 0.9720 - val_loss: 0.1774 - val_acc: 0.9310\n",
      "Epoch 29/100\n",
      "100/100 [==============================] - 15s 152ms/step - loss: 0.0756 - acc: 0.9725 - val_loss: 0.2181 - val_acc: 0.9260\n",
      "Epoch 30/100\n",
      "100/100 [==============================] - 15s 152ms/step - loss: 0.0565 - acc: 0.9775 - val_loss: 0.2011 - val_acc: 0.9330\n",
      "Epoch 31/100\n",
      "100/100 [==============================] - 15s 152ms/step - loss: 0.0714 - acc: 0.9755 - val_loss: 0.1877 - val_acc: 0.9390\n",
      "Epoch 32/100\n",
      "100/100 [==============================] - 15s 152ms/step - loss: 0.0513 - acc: 0.9810 - val_loss: 0.2004 - val_acc: 0.9370\n",
      "Epoch 33/100\n",
      "100/100 [==============================] - 15s 151ms/step - loss: 0.0670 - acc: 0.9725 - val_loss: 0.2553 - val_acc: 0.9270\n",
      "Epoch 34/100\n",
      "100/100 [==============================] - 15s 152ms/step - loss: 0.0592 - acc: 0.9785 - val_loss: 0.1783 - val_acc: 0.9420\n",
      "Epoch 35/100\n",
      "100/100 [==============================] - 15s 153ms/step - loss: 0.0603 - acc: 0.9740 - val_loss: 0.2188 - val_acc: 0.9300\n",
      "Epoch 36/100\n",
      "100/100 [==============================] - 15s 152ms/step - loss: 0.0637 - acc: 0.9770 - val_loss: 0.2589 - val_acc: 0.9330\n",
      "Epoch 37/100\n",
      "100/100 [==============================] - 15s 154ms/step - loss: 0.0579 - acc: 0.9765 - val_loss: 0.2032 - val_acc: 0.9460\n",
      "Epoch 38/100\n",
      "100/100 [==============================] - 15s 151ms/step - loss: 0.0612 - acc: 0.9755 - val_loss: 0.2161 - val_acc: 0.9310\n",
      "Epoch 39/100\n",
      "100/100 [==============================] - 15s 152ms/step - loss: 0.0555 - acc: 0.9775 - val_loss: 0.2213 - val_acc: 0.9330\n",
      "Epoch 40/100\n",
      "100/100 [==============================] - 15s 153ms/step - loss: 0.0483 - acc: 0.9825 - val_loss: 0.2458 - val_acc: 0.9410\n",
      "Epoch 41/100\n",
      "100/100 [==============================] - 15s 153ms/step - loss: 0.0536 - acc: 0.9825 - val_loss: 0.2857 - val_acc: 0.9200\n",
      "Epoch 42/100\n",
      "100/100 [==============================] - 15s 151ms/step - loss: 0.0410 - acc: 0.9820 - val_loss: 0.3835 - val_acc: 0.9080\n",
      "Epoch 43/100\n",
      "100/100 [==============================] - 15s 152ms/step - loss: 0.0496 - acc: 0.9825 - val_loss: 0.2156 - val_acc: 0.9330\n",
      "Epoch 44/100\n",
      "100/100 [==============================] - 15s 152ms/step - loss: 0.0374 - acc: 0.9880 - val_loss: 0.3323 - val_acc: 0.9150\n",
      "Epoch 45/100\n",
      "100/100 [==============================] - 15s 152ms/step - loss: 0.0488 - acc: 0.9825 - val_loss: 0.2124 - val_acc: 0.9370\n",
      "Epoch 46/100\n",
      "100/100 [==============================] - 15s 152ms/step - loss: 0.0514 - acc: 0.9800 - val_loss: 0.2191 - val_acc: 0.9340\n",
      "Epoch 47/100\n",
      "100/100 [==============================] - 15s 152ms/step - loss: 0.0503 - acc: 0.9815 - val_loss: 0.3016 - val_acc: 0.9250\n",
      "Epoch 48/100\n",
      "100/100 [==============================] - 15s 153ms/step - loss: 0.0408 - acc: 0.9845 - val_loss: 0.2221 - val_acc: 0.9400\n",
      "Epoch 49/100\n",
      "100/100 [==============================] - 15s 153ms/step - loss: 0.0431 - acc: 0.9865 - val_loss: 0.2232 - val_acc: 0.9380\n",
      "Epoch 50/100\n",
      "100/100 [==============================] - 15s 151ms/step - loss: 0.0399 - acc: 0.9895 - val_loss: 0.2072 - val_acc: 0.9410\n",
      "Epoch 51/100\n",
      "100/100 [==============================] - 15s 152ms/step - loss: 0.0433 - acc: 0.9860 - val_loss: 0.2149 - val_acc: 0.9400\n",
      "Epoch 52/100\n",
      "100/100 [==============================] - 15s 152ms/step - loss: 0.0393 - acc: 0.9870 - val_loss: 0.1995 - val_acc: 0.9360\n",
      "Epoch 53/100\n",
      "100/100 [==============================] - 15s 152ms/step - loss: 0.0353 - acc: 0.9890 - val_loss: 0.2275 - val_acc: 0.9420\n",
      "Epoch 54/100\n",
      "100/100 [==============================] - 15s 151ms/step - loss: 0.0386 - acc: 0.9870 - val_loss: 0.1854 - val_acc: 0.9360\n",
      "Epoch 55/100\n",
      "100/100 [==============================] - 15s 153ms/step - loss: 0.0332 - acc: 0.9865 - val_loss: 0.3522 - val_acc: 0.9230\n",
      "Epoch 56/100\n",
      "100/100 [==============================] - 15s 152ms/step - loss: 0.0366 - acc: 0.9860 - val_loss: 0.2294 - val_acc: 0.9320\n",
      "Epoch 57/100\n",
      "100/100 [==============================] - 15s 152ms/step - loss: 0.0312 - acc: 0.9875 - val_loss: 0.2190 - val_acc: 0.9390\n",
      "Epoch 58/100\n",
      "100/100 [==============================] - 15s 151ms/step - loss: 0.0272 - acc: 0.9900 - val_loss: 0.2158 - val_acc: 0.9380\n",
      "Epoch 59/100\n",
      "100/100 [==============================] - 15s 151ms/step - loss: 0.0336 - acc: 0.9900 - val_loss: 0.2498 - val_acc: 0.9380\n",
      "Epoch 60/100\n",
      "100/100 [==============================] - 15s 151ms/step - loss: 0.0401 - acc: 0.9875 - val_loss: 0.2505 - val_acc: 0.9390\n"
     ]
    },
    {
     "name": "stdout",
     "output_type": "stream",
     "text": [
      "Epoch 61/100\n",
      "100/100 [==============================] - 15s 153ms/step - loss: 0.0257 - acc: 0.9900 - val_loss: 0.2641 - val_acc: 0.9370\n",
      "Epoch 62/100\n",
      "100/100 [==============================] - 15s 154ms/step - loss: 0.0339 - acc: 0.9855 - val_loss: 0.2501 - val_acc: 0.9410\n",
      "Epoch 63/100\n",
      "100/100 [==============================] - 15s 152ms/step - loss: 0.0342 - acc: 0.9860 - val_loss: 0.2183 - val_acc: 0.9430\n",
      "Epoch 64/100\n",
      "100/100 [==============================] - 15s 152ms/step - loss: 0.0275 - acc: 0.9905 - val_loss: 0.2335 - val_acc: 0.9330\n",
      "Epoch 65/100\n",
      "100/100 [==============================] - 15s 151ms/step - loss: 0.0371 - acc: 0.9870 - val_loss: 0.2311 - val_acc: 0.9390\n",
      "Epoch 66/100\n",
      "100/100 [==============================] - 15s 153ms/step - loss: 0.0223 - acc: 0.9915 - val_loss: 0.2516 - val_acc: 0.9350\n",
      "Epoch 67/100\n",
      "100/100 [==============================] - 15s 151ms/step - loss: 0.0400 - acc: 0.9880 - val_loss: 0.2212 - val_acc: 0.9430\n",
      "Epoch 68/100\n",
      "100/100 [==============================] - 15s 151ms/step - loss: 0.0244 - acc: 0.9910 - val_loss: 0.2306 - val_acc: 0.9410\n",
      "Epoch 69/100\n",
      "100/100 [==============================] - 15s 152ms/step - loss: 0.0267 - acc: 0.9915 - val_loss: 0.2627 - val_acc: 0.9400\n",
      "Epoch 70/100\n",
      "100/100 [==============================] - 15s 153ms/step - loss: 0.0249 - acc: 0.9900 - val_loss: 0.3106 - val_acc: 0.9280\n",
      "Epoch 71/100\n",
      "100/100 [==============================] - 15s 151ms/step - loss: 0.0327 - acc: 0.9895 - val_loss: 0.2214 - val_acc: 0.9400\n",
      "Epoch 72/100\n",
      "100/100 [==============================] - 15s 153ms/step - loss: 0.0234 - acc: 0.9935 - val_loss: 0.2104 - val_acc: 0.9400\n",
      "Epoch 73/100\n",
      "100/100 [==============================] - 15s 151ms/step - loss: 0.0339 - acc: 0.9880 - val_loss: 0.2341 - val_acc: 0.9430\n",
      "Epoch 74/100\n",
      "100/100 [==============================] - 15s 151ms/step - loss: 0.0232 - acc: 0.9915 - val_loss: 0.2585 - val_acc: 0.9390\n",
      "Epoch 75/100\n",
      "100/100 [==============================] - 15s 153ms/step - loss: 0.0268 - acc: 0.9910 - val_loss: 0.2463 - val_acc: 0.9340\n",
      "Epoch 76/100\n",
      "100/100 [==============================] - 15s 153ms/step - loss: 0.0277 - acc: 0.9905 - val_loss: 0.2406 - val_acc: 0.9350\n",
      "Epoch 77/100\n",
      "100/100 [==============================] - 15s 151ms/step - loss: 0.0171 - acc: 0.9940 - val_loss: 0.2384 - val_acc: 0.9430\n",
      "Epoch 78/100\n",
      "100/100 [==============================] - 15s 153ms/step - loss: 0.0244 - acc: 0.9920 - val_loss: 0.3449 - val_acc: 0.9350\n",
      "Epoch 79/100\n",
      "100/100 [==============================] - 15s 152ms/step - loss: 0.0243 - acc: 0.9925 - val_loss: 0.5464 - val_acc: 0.9060\n",
      "Epoch 80/100\n",
      "100/100 [==============================] - 15s 153ms/step - loss: 0.0187 - acc: 0.9935 - val_loss: 0.2558 - val_acc: 0.9350\n",
      "Epoch 81/100\n",
      "100/100 [==============================] - 15s 152ms/step - loss: 0.0203 - acc: 0.9930 - val_loss: 0.3696 - val_acc: 0.9270\n",
      "Epoch 82/100\n",
      "100/100 [==============================] - 15s 152ms/step - loss: 0.0138 - acc: 0.9950 - val_loss: 0.2878 - val_acc: 0.9370\n",
      "Epoch 83/100\n",
      "100/100 [==============================] - 15s 152ms/step - loss: 0.0248 - acc: 0.9930 - val_loss: 0.2635 - val_acc: 0.9400\n",
      "Epoch 84/100\n",
      "100/100 [==============================] - 15s 151ms/step - loss: 0.0295 - acc: 0.9910 - val_loss: 0.2686 - val_acc: 0.9340\n",
      "Epoch 85/100\n",
      "100/100 [==============================] - 15s 152ms/step - loss: 0.0188 - acc: 0.9950 - val_loss: 0.4070 - val_acc: 0.9240\n",
      "Epoch 86/100\n",
      "100/100 [==============================] - 15s 151ms/step - loss: 0.0139 - acc: 0.9955 - val_loss: 0.2969 - val_acc: 0.9340\n",
      "Epoch 87/100\n",
      "100/100 [==============================] - 15s 152ms/step - loss: 0.0229 - acc: 0.9930 - val_loss: 0.2914 - val_acc: 0.9320\n",
      "Epoch 88/100\n",
      "100/100 [==============================] - 15s 152ms/step - loss: 0.0178 - acc: 0.9925 - val_loss: 0.2276 - val_acc: 0.9420\n",
      "Epoch 89/100\n",
      "100/100 [==============================] - 15s 151ms/step - loss: 0.0169 - acc: 0.9945 - val_loss: 0.3010 - val_acc: 0.9350\n",
      "Epoch 90/100\n",
      "100/100 [==============================] - 15s 152ms/step - loss: 0.0203 - acc: 0.9925 - val_loss: 0.2959 - val_acc: 0.9360\n",
      "Epoch 91/100\n",
      "100/100 [==============================] - 15s 150ms/step - loss: 0.0213 - acc: 0.9920 - val_loss: 0.3274 - val_acc: 0.9360\n",
      "Epoch 92/100\n",
      "100/100 [==============================] - 15s 153ms/step - loss: 0.0161 - acc: 0.9930 - val_loss: 0.2776 - val_acc: 0.9340\n",
      "Epoch 93/100\n",
      "100/100 [==============================] - 15s 151ms/step - loss: 0.0252 - acc: 0.9900 - val_loss: 0.2694 - val_acc: 0.9420\n",
      "Epoch 94/100\n",
      "100/100 [==============================] - 15s 152ms/step - loss: 0.0176 - acc: 0.9955 - val_loss: 0.2252 - val_acc: 0.9390\n",
      "Epoch 95/100\n",
      "100/100 [==============================] - 15s 152ms/step - loss: 0.0253 - acc: 0.9915 - val_loss: 0.2546 - val_acc: 0.9390\n",
      "Epoch 96/100\n",
      "100/100 [==============================] - 15s 152ms/step - loss: 0.0188 - acc: 0.9925 - val_loss: 0.2704 - val_acc: 0.9360\n",
      "Epoch 97/100\n",
      "100/100 [==============================] - 15s 151ms/step - loss: 0.0183 - acc: 0.9930 - val_loss: 0.4467 - val_acc: 0.9240\n",
      "Epoch 98/100\n",
      "100/100 [==============================] - 15s 151ms/step - loss: 0.0191 - acc: 0.9930 - val_loss: 0.2680 - val_acc: 0.9390\n",
      "Epoch 99/100\n",
      "100/100 [==============================] - 15s 153ms/step - loss: 0.0122 - acc: 0.9960 - val_loss: 0.3749 - val_acc: 0.9310\n",
      "Epoch 100/100\n",
      "100/100 [==============================] - 15s 151ms/step - loss: 0.0156 - acc: 0.9950 - val_loss: 0.2933 - val_acc: 0.9420\n"
     ]
    }
   ],
   "source": [
    "#fine-tuning the model with a very low learning rate in order to keep the \n",
    "#limit the magnitude of the modifications to the representations\n",
    "\n",
    "model.compile(loss='binary_crossentropy', optimizer = optimizers.RMSprop(lr=1e-5),metrics=['acc'])\n",
    "\n",
    "history = model.fit_generator(train_generator, steps_per_epoch=100,epochs=100,validation_data=validation_generator,validation_steps=50)"
   ]
  },
  {
   "cell_type": "code",
   "execution_count": 18,
   "metadata": {},
   "outputs": [
    {
     "data": {
      "image/png": "[encoded data removed]",
      "text/plain": [
       "<Figure size 432x288 with 1 Axes>"
      ]
     },
     "metadata": {
      "needs_background": "light"
     },
     "output_type": "display_data"
    },
    {
     "data": {
      "image/png": "[encoded data removed]",
      "text/plain": [
       "<Figure size 432x288 with 1 Axes>"
      ]
     },
     "metadata": {
      "needs_background": "light"
     },
     "output_type": "display_data"
    }
   ],
   "source": [
    "#Plotting the accuracy and loss for the model with unfrozen last three conv layers\n",
    "\n",
    "import matplotlib.pyplot as plt\n",
    "\n",
    "acc = history.history['acc']\n",
    "val_acc = history.history['val_acc']\n",
    "loss = history.history['loss']\n",
    "val_loss = history.history['val_loss']\n",
    "\n",
    "epochs = range(1, len(acc)+1)\n",
    "\n",
    "plt.plot(epochs, acc, 'bo', label='Training acc')\n",
    "plt.plot(epochs, val_acc, 'b', label='Validation acc')\n",
    "plt.title('Training and validation accuracy')\n",
    "plt.legend()\n",
    "\n",
    "plt.figure()\n",
    "\n",
    "plt.plot(epochs, loss, 'bo', label='Training loss')\n",
    "plt.plot(epochs, val_loss, 'b', label='Validation loss')\n",
    "plt.title('Training and validation loss')\n",
    "plt.legend()\n",
    "\n",
    "plt.show()"
   ]
  },
  {
   "cell_type": "code",
   "execution_count": 20,
   "metadata": {},
   "outputs": [
    {
     "data": {
      "image/png": "[encoded data removed]",
      "text/plain": [
       "<Figure size 432x288 with 1 Axes>"
      ]
     },
     "metadata": {
      "needs_background": "light"
     },
     "output_type": "display_data"
    },
    {
     "data": {
      "image/png": "[encoded data removed]",
      "text/plain": [
       "<Figure size 432x288 with 1 Axes>"
      ]
     },
     "metadata": {
      "needs_background": "light"
     },
     "output_type": "display_data"
    }
   ],
   "source": [
    "#In order to make the plot more readable, we smooth the points by their exp moving averages\n",
    "\n",
    "def smooth_curve(points, factor = 0.8):\n",
    "    smoothed_points=[]\n",
    "    for point in points:\n",
    "        if smoothed_points:\n",
    "            previous = smoothed_points[-1]\n",
    "            smoothed_points.append(previous * factor + point * (1-factor))\n",
    "        else:\n",
    "            smoothed_points.append(point)\n",
    "    return smoothed_points\n",
    "\n",
    "plt.plot(epochs, smooth_curve(acc), 'bo', label='Smoothed training acc')\n",
    "plt.plot(epochs, smooth_curve(val_acc), 'b', label='Smoothed validation acc')\n",
    "plt.title('Smoothed training and validation accuracy')\n",
    "plt.legend()\n",
    "\n",
    "plt.figure()\n",
    "\n",
    "plt.plot(epochs, smooth_curve(loss), 'bo', label='Smoothed training loss')\n",
    "plt.plot(epochs, smooth_curve(val_loss), 'b', label='Smoothed validation loss')\n",
    "plt.title('Smoothed training and validation loss')\n",
    "plt.legend()\n",
    "\n",
    "plt.show()"
   ]
  },
  {
   "cell_type": "code",
   "execution_count": 21,
   "metadata": {},
   "outputs": [
    {
     "name": "stdout",
     "output_type": "stream",
     "text": [
      "Found 1000 images belonging to 2 classes.\n",
      "test acc: 0.942\n"
     ]
    }
   ],
   "source": [
    "#Evaluate the model on the test set\n",
    "\n",
    "test_generator = test_datagen.flow_from_directory(test_dir, target_size=(150,150), batch_size=20, class_mode='binary')\n",
    "\n",
    "test_loss, test_acc = model.evaluate_generator(test_generator, steps=50)\n",
    "print('test acc:', test_acc)"
   ]
  },
  {
   "cell_type": "code",
   "execution_count": null,
   "metadata": {},
   "outputs": [],
   "source": []
  }
 ],
 "metadata": {
  "kernelspec": {
   "display_name": "Python 3",
   "language": "python",
   "name": "python3"
  },
  "language_info": {
   "codemirror_mode": {
    "name": "ipython",
    "version": 3
   },
   "file_extension": ".py",
   "mimetype": "text/x-python",
   "name": "python",
   "nbconvert_exporter": "python",
   "pygments_lexer": "ipython3",
   "version": "3.5.2"
  }
 },
 "nbformat": 4,
 "nbformat_minor": 2
}
